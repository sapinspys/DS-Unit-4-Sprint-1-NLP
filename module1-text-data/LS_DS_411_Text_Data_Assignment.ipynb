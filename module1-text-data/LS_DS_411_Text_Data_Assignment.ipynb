{
 "cells": [
  {
   "cell_type": "markdown",
   "metadata": {},
   "source": [
    "<img align=\"left\" src=\"https://lever-client-logos.s3.amazonaws.com/864372b1-534c-480e-acd5-9711f850815c-1524247202159.png\" width=200>\n",
    "<br></br>\n",
    "<br></br>\n",
    "\n",
    "# Natural Language Processing (NLP)\n",
    "## *Data Science Unit 4 Sprint 1 Assignment 1*\n",
    "\n",
    "Your goal in this assignment: find the attributes of the best & worst coffee shops in the dataset. The text is fairly raw: dates in the review, extra words in the `star_rating` column, etc. You'll probably want to clean that stuff up for a better analysis. \n",
    "\n",
    "Analyze the corpus of text using text visualizations of token frequency. Try cleaning the data as much as possible. Try the following techniques: \n",
    "- Lemmatization\n",
    "- Custom stopword removal\n",
    "\n",
    "Keep in mind the attributes of good tokens. Once you have a solid baseline, layer in the star rating in your visualization(s). Key part of this assignment - produce a write-up of the attributes of the best and worst coffee shops. Based on your analysis, what makes the best the best and the worst the worst. Use graphs and numbesr from your analysis to support your conclusions. There should be plenty of markdown cells! :coffee:"
   ]
  },
  {
   "cell_type": "code",
   "execution_count": 1,
   "metadata": {},
   "outputs": [
    {
     "data": {
      "image/jpeg": "[encoded data removed]",
      "text/html": [
       "\n",
       "        <iframe\n",
       "            width=\"400\"\n",
       "            height=\"300\"\n",
       "            src=\"https://www.youtube.com/embed/Jml7NVYm8cs\"\n",
       "            frameborder=\"0\"\n",
       "            allowfullscreen\n",
       "        ></iframe>\n",
       "        "
      ],
      "text/plain": [
       "<IPython.lib.display.YouTubeVideo at 0x7fe79d3da0f0>"
      ]
     },
     "execution_count": 1,
     "metadata": {},
     "output_type": "execute_result"
    }
   ],
   "source": [
    "from IPython.display import YouTubeVideo\n",
    "\n",
    "YouTubeVideo('Jml7NVYm8cs')"
   ]
  },
  {
   "cell_type": "code",
   "execution_count": 2,
   "metadata": {},
   "outputs": [
    {
     "data": {
      "text/plain": [
       "'/home/guillermo/Documents/repos/DS-Unit-4-Sprint-1-NLP/module1-text-data'"
      ]
     },
     "execution_count": 2,
     "metadata": {},
     "output_type": "execute_result"
    }
   ],
   "source": [
    "%pwd"
   ]
  },
  {
   "cell_type": "code",
   "execution_count": 3,
   "metadata": {},
   "outputs": [
    {
     "name": "stdout",
     "output_type": "stream",
     "text": [
      "(7616, 3)\n"
     ]
    },
    {
     "data": {
      "text/html": [
       "<div>\n",
       "<style scoped>\n",
       "    .dataframe tbody tr th:only-of-type {\n",
       "        vertical-align: middle;\n",
       "    }\n",
       "\n",
       "    .dataframe tbody tr th {\n",
       "        vertical-align: top;\n",
       "    }\n",
       "\n",
       "    .dataframe thead th {\n",
       "        text-align: right;\n",
       "    }\n",
       "</style>\n",
       "<table border=\"1\" class=\"dataframe\">\n",
       "  <thead>\n",
       "    <tr style=\"text-align: right;\">\n",
       "      <th></th>\n",
       "      <th>coffee_shop_name</th>\n",
       "      <th>full_review_text</th>\n",
       "      <th>star_rating</th>\n",
       "    </tr>\n",
       "  </thead>\n",
       "  <tbody>\n",
       "    <tr>\n",
       "      <th>0</th>\n",
       "      <td>The Factory - Cafe With a Soul</td>\n",
       "      <td>11/25/2016 1 check-in Love love loved the atm...</td>\n",
       "      <td>5.0 star rating</td>\n",
       "    </tr>\n",
       "    <tr>\n",
       "      <th>1</th>\n",
       "      <td>The Factory - Cafe With a Soul</td>\n",
       "      <td>12/2/2016 Listed in Date Night: Austin, Ambia...</td>\n",
       "      <td>4.0 star rating</td>\n",
       "    </tr>\n",
       "    <tr>\n",
       "      <th>2</th>\n",
       "      <td>The Factory - Cafe With a Soul</td>\n",
       "      <td>11/30/2016 1 check-in Listed in Brunch Spots ...</td>\n",
       "      <td>4.0 star rating</td>\n",
       "    </tr>\n",
       "    <tr>\n",
       "      <th>3</th>\n",
       "      <td>The Factory - Cafe With a Soul</td>\n",
       "      <td>11/25/2016 Very cool decor! Good drinks Nice ...</td>\n",
       "      <td>2.0 star rating</td>\n",
       "    </tr>\n",
       "    <tr>\n",
       "      <th>4</th>\n",
       "      <td>The Factory - Cafe With a Soul</td>\n",
       "      <td>12/3/2016 1 check-in They are located within ...</td>\n",
       "      <td>4.0 star rating</td>\n",
       "    </tr>\n",
       "  </tbody>\n",
       "</table>\n",
       "</div>"
      ],
      "text/plain": [
       "                  coffee_shop_name  \\\n",
       "0  The Factory - Cafe With a Soul    \n",
       "1  The Factory - Cafe With a Soul    \n",
       "2  The Factory - Cafe With a Soul    \n",
       "3  The Factory - Cafe With a Soul    \n",
       "4  The Factory - Cafe With a Soul    \n",
       "\n",
       "                                    full_review_text        star_rating  \n",
       "0   11/25/2016 1 check-in Love love loved the atm...   5.0 star rating   \n",
       "1   12/2/2016 Listed in Date Night: Austin, Ambia...   4.0 star rating   \n",
       "2   11/30/2016 1 check-in Listed in Brunch Spots ...   4.0 star rating   \n",
       "3   11/25/2016 Very cool decor! Good drinks Nice ...   2.0 star rating   \n",
       "4   12/3/2016 1 check-in They are located within ...   4.0 star rating   "
      ]
     },
     "execution_count": 3,
     "metadata": {},
     "output_type": "execute_result"
    }
   ],
   "source": [
    "import pandas as pd\n",
    "\n",
    "url = \"https://raw.githubusercontent.com/LambdaSchool/DS-Unit-4-Sprint-1-NLP/master/module1-text-data/data/yelp_coffeeshop_review_data.csv\"\n",
    "\n",
    "shops = pd.read_csv(url)\n",
    "print(shops.shape)\n",
    "shops.head()"
   ]
  },
  {
   "cell_type": "markdown",
   "metadata": {},
   "source": [
    "## Let's clean our data first\n",
    "### Clue: \"The text is fairly raw: dates in the review, extra words in the star_rating column, etc\""
   ]
  },
  {
   "cell_type": "code",
   "execution_count": 4,
   "metadata": {},
   "outputs": [],
   "source": [
    "shops_cleaned = shops.copy()"
   ]
  },
  {
   "cell_type": "code",
   "execution_count": 5,
   "metadata": {},
   "outputs": [
    {
     "data": {
      "text/plain": [
       "False    7616\n",
       "Name: full_review_text, dtype: int64"
      ]
     },
     "execution_count": 5,
     "metadata": {},
     "output_type": "execute_result"
    }
   ],
   "source": [
    "shops['full_review_text'].apply(lambda x: x.split(\" \")[1]).isna().value_counts()"
   ]
  },
  {
   "cell_type": "code",
   "execution_count": 6,
   "metadata": {},
   "outputs": [
    {
     "data": {
      "text/plain": [
       " 5.0 star rating     3780\n",
       " 4.0 star rating     2360\n",
       " 3.0 star rating      738\n",
       " 2.0 star rating      460\n",
       " 1.0 star rating      278\n",
       "Name: star_rating, dtype: int64"
      ]
     },
     "execution_count": 6,
     "metadata": {},
     "output_type": "execute_result"
    }
   ],
   "source": [
    "shops.star_rating.value_counts()"
   ]
  },
  {
   "cell_type": "code",
   "execution_count": 7,
   "metadata": {},
   "outputs": [
    {
     "data": {
      "text/plain": [
       "5.0    3780\n",
       "4.0    2360\n",
       "3.0     738\n",
       "2.0     460\n",
       "1.0     278\n",
       "Name: star_rating, dtype: int64"
      ]
     },
     "execution_count": 7,
     "metadata": {},
     "output_type": "execute_result"
    }
   ],
   "source": [
    "shops['star_rating'].apply(lambda x: x.split(\" \")[1]).value_counts()"
   ]
  },
  {
   "cell_type": "code",
   "execution_count": 8,
   "metadata": {},
   "outputs": [
    {
     "data": {
      "text/plain": [
       "Epoch Coffee                       400\n",
       "Halcyon                            300\n",
       "The Factory - Cafe With a Soul     244\n",
       "Houndstooth Coffee                 200\n",
       "Venezia Italian Gelato             200\n",
       "Name: coffee_shop_name, dtype: int64"
      ]
     },
     "execution_count": 8,
     "metadata": {},
     "output_type": "execute_result"
    }
   ],
   "source": [
    "shops['coffee_shop_name'].value_counts().head()"
   ]
  },
  {
   "cell_type": "code",
   "execution_count": 9,
   "metadata": {},
   "outputs": [
    {
     "data": {
      "text/plain": [
       "False    7616\n",
       "Name: full_review_text, dtype: int64"
      ]
     },
     "execution_count": 9,
     "metadata": {},
     "output_type": "execute_result"
    }
   ],
   "source": [
    "# Checking for empty reviews\n",
    "(shops['full_review_text'] == '').value_counts()"
   ]
  },
  {
   "cell_type": "code",
   "execution_count": 10,
   "metadata": {},
   "outputs": [],
   "source": [
    "shops_cleaned['date_reviewed'] = shops['full_review_text'].apply(lambda x: x.split(\" \")[1])"
   ]
  },
  {
   "cell_type": "code",
   "execution_count": 11,
   "metadata": {},
   "outputs": [],
   "source": [
    "shops_cleaned['full_review_text'] = shops['full_review_text'].apply(lambda x: \" \".join(x.split(\" \")[2:]))"
   ]
  },
  {
   "cell_type": "code",
   "execution_count": 12,
   "metadata": {},
   "outputs": [],
   "source": [
    "shops_cleaned['star_rating'] = shops['star_rating'].apply(lambda x: float(x.split(\" \")[1]))"
   ]
  },
  {
   "cell_type": "code",
   "execution_count": 13,
   "metadata": {},
   "outputs": [
    {
     "name": "stdout",
     "output_type": "stream",
     "text": [
      "(7616, 4)\n"
     ]
    },
    {
     "data": {
      "text/html": [
       "<div>\n",
       "<style scoped>\n",
       "    .dataframe tbody tr th:only-of-type {\n",
       "        vertical-align: middle;\n",
       "    }\n",
       "\n",
       "    .dataframe tbody tr th {\n",
       "        vertical-align: top;\n",
       "    }\n",
       "\n",
       "    .dataframe thead th {\n",
       "        text-align: right;\n",
       "    }\n",
       "</style>\n",
       "<table border=\"1\" class=\"dataframe\">\n",
       "  <thead>\n",
       "    <tr style=\"text-align: right;\">\n",
       "      <th></th>\n",
       "      <th>coffee_shop_name</th>\n",
       "      <th>full_review_text</th>\n",
       "      <th>star_rating</th>\n",
       "      <th>date_reviewed</th>\n",
       "    </tr>\n",
       "  </thead>\n",
       "  <tbody>\n",
       "    <tr>\n",
       "      <th>0</th>\n",
       "      <td>The Factory - Cafe With a Soul</td>\n",
       "      <td>1 check-in Love love loved the atmosphere! Eve...</td>\n",
       "      <td>5.0</td>\n",
       "      <td>11/25/2016</td>\n",
       "    </tr>\n",
       "    <tr>\n",
       "      <th>1</th>\n",
       "      <td>The Factory - Cafe With a Soul</td>\n",
       "      <td>Listed in Date Night: Austin, Ambiance in Aust...</td>\n",
       "      <td>4.0</td>\n",
       "      <td>12/2/2016</td>\n",
       "    </tr>\n",
       "    <tr>\n",
       "      <th>2</th>\n",
       "      <td>The Factory - Cafe With a Soul</td>\n",
       "      <td>1 check-in Listed in Brunch Spots I loved the ...</td>\n",
       "      <td>4.0</td>\n",
       "      <td>11/30/2016</td>\n",
       "    </tr>\n",
       "    <tr>\n",
       "      <th>3</th>\n",
       "      <td>The Factory - Cafe With a Soul</td>\n",
       "      <td>Very cool decor! Good drinks Nice seating  How...</td>\n",
       "      <td>2.0</td>\n",
       "      <td>11/25/2016</td>\n",
       "    </tr>\n",
       "    <tr>\n",
       "      <th>4</th>\n",
       "      <td>The Factory - Cafe With a Soul</td>\n",
       "      <td>1 check-in They are located within the Northcr...</td>\n",
       "      <td>4.0</td>\n",
       "      <td>12/3/2016</td>\n",
       "    </tr>\n",
       "  </tbody>\n",
       "</table>\n",
       "</div>"
      ],
      "text/plain": [
       "                  coffee_shop_name  \\\n",
       "0  The Factory - Cafe With a Soul    \n",
       "1  The Factory - Cafe With a Soul    \n",
       "2  The Factory - Cafe With a Soul    \n",
       "3  The Factory - Cafe With a Soul    \n",
       "4  The Factory - Cafe With a Soul    \n",
       "\n",
       "                                    full_review_text  star_rating  \\\n",
       "0  1 check-in Love love loved the atmosphere! Eve...          5.0   \n",
       "1  Listed in Date Night: Austin, Ambiance in Aust...          4.0   \n",
       "2  1 check-in Listed in Brunch Spots I loved the ...          4.0   \n",
       "3  Very cool decor! Good drinks Nice seating  How...          2.0   \n",
       "4  1 check-in They are located within the Northcr...          4.0   \n",
       "\n",
       "  date_reviewed  \n",
       "0    11/25/2016  \n",
       "1     12/2/2016  \n",
       "2    11/30/2016  \n",
       "3    11/25/2016  \n",
       "4     12/3/2016  "
      ]
     },
     "execution_count": 13,
     "metadata": {},
     "output_type": "execute_result"
    }
   ],
   "source": [
    "print(shops_cleaned.shape)\n",
    "shops_cleaned.head()"
   ]
  },
  {
   "cell_type": "markdown",
   "metadata": {},
   "source": [
    "## How do we want to analyze these coffee shop tokens? \n",
    "\n",
    "- Overall Word / Token Count\n",
    "- View Counts by Rating \n",
    "- *Hint:* a 'bad' coffee shops has a rating betweeen 1 & 3 based on the distribution of ratings. A 'good' coffee shop is a 4 or 5. "
   ]
  },
  {
   "cell_type": "markdown",
   "metadata": {},
   "source": [
    "### Attributes of a good token:\n",
    "\n",
    "1. Stored in iterable data structure\n",
    "2. All the same case\n",
    "3. Free of non-alphanumeric characters (ie. punctuation, whitespace)"
   ]
  },
  {
   "cell_type": "code",
   "execution_count": 14,
   "metadata": {},
   "outputs": [],
   "source": [
    "import re"
   ]
  },
  {
   "cell_type": "code",
   "execution_count": 15,
   "metadata": {},
   "outputs": [],
   "source": [
    "def tokenize(text):\n",
    "    \"\"\" \n",
    "    Parses a string into a list of semantic units.\n",
    "    \n",
    "    Args: \n",
    "        text(str): String that the funciton will tokenize.\n",
    "        \n",
    "    Returns:\n",
    "        list: Tokens parsed out by mechanics below.\n",
    "    \"\"\"\n",
    "    \n",
    "    tokens = re.sub(r'[^a-zA-Z ^0-9]', '', text)\n",
    "    tokens = tokens.lower().split()\n",
    "    \n",
    "    return tokens"
   ]
  },
  {
   "cell_type": "code",
   "execution_count": 16,
   "metadata": {},
   "outputs": [
    {
     "data": {
      "text/plain": [
       "0       [1, checkin, love, love, loved, the, atmospher...\n",
       "1       [listed, in, date, night, austin, ambiance, in...\n",
       "2       [1, checkin, listed, in, brunch, spots, i, lov...\n",
       "3       [very, cool, decor, good, drinks, nice, seatin...\n",
       "4       [1, checkin, they, are, located, within, the, ...\n",
       "5       [1, checkin, very, cute, cafe, i, think, from,...\n",
       "6       [2, checkins, listed, in, nuptial, coffee, bli...\n",
       "7       [2, checkins, love, this, place, 5, stars, for...\n",
       "8       [1, checkin, ok, lets, try, this, approach, pr...\n",
       "9       [3, checkins, this, place, has, been, shown, o...\n",
       "10      [1, checkin, listed, in, americano, this, is, ...\n",
       "11      [the, store, has, a, decoration, but, honestly...\n",
       "12      [1, checkin, listed, in, 2016, the, third, tim...\n",
       "13      [this, is, such, a, cute, little, cafe, ive, d...\n",
       "14      [beautiful, eccentric, coffee, shop, with, a, ...\n",
       "15      [1, checkin, listed, in, in, search, of, fanta...\n",
       "16      [really, love, the, atmosphere, here, i, frequ...\n",
       "17      [1, checkin, check, out, this, video, for, a, ...\n",
       "18      [1, checkin, note, do, not, come, here, if, yo...\n",
       "19      [so, much, aesthetic, in, this, place, i, love...\n",
       "20      [1, checkin, checked, out, the, factory, this,...\n",
       "21      [this, place, is, so, cute, new, favorite, cof...\n",
       "22      [tried, this, new, cafe, spot, on, burnet, wit...\n",
       "23      [the, greeting, of, an, atmosphere, it, feels,...\n",
       "24      [craft, coffee, drinks, tea, and, beerwine, fr...\n",
       "25      [okay, so, after, visiting, my, friends, in, l...\n",
       "26      [1, checkin, guys, this, place, is, amazing, l...\n",
       "27      [what, a, fantastic, atmosphere, i, dropped, i...\n",
       "28      [this, place, is, amazing, no, wifi, but, that...\n",
       "29      [i, never, write, yelp, reviews, ever, but, wh...\n",
       "                              ...                        \n",
       "7586    [listed, in, so, you, wanna, eat, in, north, c...\n",
       "7587    [2, checkins, listed, in, 100, yelp, review, c...\n",
       "7588    [6, checkins, let, me, start, by, saying, that...\n",
       "7589    [this, is, a, great, restaurant, i, think, the...\n",
       "7590    [so, today, i, tried, this, place, i, have, be...\n",
       "7591    [this, is, one, of, the, best, places, to, eat...\n",
       "7592    [good, service, good, food, prices, are, too, ...\n",
       "7593    [1, checkin, my, favorite, tea, is, the, jasmi...\n",
       "7594    [1, checkin, this, is, my, favorite, tea, plac...\n",
       "7595    [4, checkins, listed, in, vegan, and, the, bea...\n",
       "7596    [i, had, the, best, experience, at, this, rest...\n",
       "7597    [1, checkin, listed, in, 2014, yelp, 100, chal...\n",
       "7598    [i, went, to, the, steeping, room, today, for,...\n",
       "7599    [1, checkin, i, am, someone, that, hates, goin...\n",
       "7600    [great, service, with, unimaginative, and, une...\n",
       "7601    [1, checkin, great, selection, of, teas, to, p...\n",
       "7602    [2, checkins, i, go, here, almost, every, week...\n",
       "7603    [1, checkin, went, here, for, lunch, today, wi...\n",
       "7604    [a, few, complaints, about, a, wonderful, litt...\n",
       "7605    [i, got, the, chipotle, chocolate, chai, tea, ...\n",
       "7606    [same, great, tea, and, food, as, their, domai...\n",
       "7607    [this, place, is, amazing, its, one, of, my, f...\n",
       "7608    [i, come, here, when, i, visit, my, friend, in...\n",
       "7609    [1, checkin, after, noticing, many, friends, h...\n",
       "7610    [great, food, i, havent, had, a, meal, i, did,...\n",
       "7611    [i, actually, step, into, this, restaurant, by...\n",
       "7612    [ok, the, steeping, room, is, awesome, how, do...\n",
       "7613    [loved, coming, here, for, tea, and, the, atmo...\n",
       "7614    [the, food, is, just, average, the, booths, di...\n",
       "7615    [i, finally, stopped, in, for, lunch, with, my...\n",
       "Name: full_review_text, Length: 7616, dtype: object"
      ]
     },
     "execution_count": 16,
     "metadata": {},
     "output_type": "execute_result"
    }
   ],
   "source": [
    "shops_cleaned['full_review_text'].apply(lambda x: tokenize(x))"
   ]
  },
  {
   "cell_type": "code",
   "execution_count": 17,
   "metadata": {},
   "outputs": [],
   "source": [
    "shops_cleaned['raw_python_tokens'] = shops_cleaned['full_review_text'].apply(lambda x: tokenize(x))"
   ]
  },
  {
   "cell_type": "code",
   "execution_count": 18,
   "metadata": {},
   "outputs": [
    {
     "name": "stdout",
     "output_type": "stream",
     "text": [
      "(7616, 5)\n"
     ]
    },
    {
     "data": {
      "text/html": [
       "<div>\n",
       "<style scoped>\n",
       "    .dataframe tbody tr th:only-of-type {\n",
       "        vertical-align: middle;\n",
       "    }\n",
       "\n",
       "    .dataframe tbody tr th {\n",
       "        vertical-align: top;\n",
       "    }\n",
       "\n",
       "    .dataframe thead th {\n",
       "        text-align: right;\n",
       "    }\n",
       "</style>\n",
       "<table border=\"1\" class=\"dataframe\">\n",
       "  <thead>\n",
       "    <tr style=\"text-align: right;\">\n",
       "      <th></th>\n",
       "      <th>coffee_shop_name</th>\n",
       "      <th>full_review_text</th>\n",
       "      <th>star_rating</th>\n",
       "      <th>date_reviewed</th>\n",
       "      <th>raw_python_tokens</th>\n",
       "    </tr>\n",
       "  </thead>\n",
       "  <tbody>\n",
       "    <tr>\n",
       "      <th>0</th>\n",
       "      <td>The Factory - Cafe With a Soul</td>\n",
       "      <td>1 check-in Love love loved the atmosphere! Eve...</td>\n",
       "      <td>5.0</td>\n",
       "      <td>11/25/2016</td>\n",
       "      <td>[1, checkin, love, love, loved, the, atmospher...</td>\n",
       "    </tr>\n",
       "    <tr>\n",
       "      <th>1</th>\n",
       "      <td>The Factory - Cafe With a Soul</td>\n",
       "      <td>Listed in Date Night: Austin, Ambiance in Aust...</td>\n",
       "      <td>4.0</td>\n",
       "      <td>12/2/2016</td>\n",
       "      <td>[listed, in, date, night, austin, ambiance, in...</td>\n",
       "    </tr>\n",
       "    <tr>\n",
       "      <th>2</th>\n",
       "      <td>The Factory - Cafe With a Soul</td>\n",
       "      <td>1 check-in Listed in Brunch Spots I loved the ...</td>\n",
       "      <td>4.0</td>\n",
       "      <td>11/30/2016</td>\n",
       "      <td>[1, checkin, listed, in, brunch, spots, i, lov...</td>\n",
       "    </tr>\n",
       "    <tr>\n",
       "      <th>3</th>\n",
       "      <td>The Factory - Cafe With a Soul</td>\n",
       "      <td>Very cool decor! Good drinks Nice seating  How...</td>\n",
       "      <td>2.0</td>\n",
       "      <td>11/25/2016</td>\n",
       "      <td>[very, cool, decor, good, drinks, nice, seatin...</td>\n",
       "    </tr>\n",
       "    <tr>\n",
       "      <th>4</th>\n",
       "      <td>The Factory - Cafe With a Soul</td>\n",
       "      <td>1 check-in They are located within the Northcr...</td>\n",
       "      <td>4.0</td>\n",
       "      <td>12/3/2016</td>\n",
       "      <td>[1, checkin, they, are, located, within, the, ...</td>\n",
       "    </tr>\n",
       "  </tbody>\n",
       "</table>\n",
       "</div>"
      ],
      "text/plain": [
       "                  coffee_shop_name  \\\n",
       "0  The Factory - Cafe With a Soul    \n",
       "1  The Factory - Cafe With a Soul    \n",
       "2  The Factory - Cafe With a Soul    \n",
       "3  The Factory - Cafe With a Soul    \n",
       "4  The Factory - Cafe With a Soul    \n",
       "\n",
       "                                    full_review_text  star_rating  \\\n",
       "0  1 check-in Love love loved the atmosphere! Eve...          5.0   \n",
       "1  Listed in Date Night: Austin, Ambiance in Aust...          4.0   \n",
       "2  1 check-in Listed in Brunch Spots I loved the ...          4.0   \n",
       "3  Very cool decor! Good drinks Nice seating  How...          2.0   \n",
       "4  1 check-in They are located within the Northcr...          4.0   \n",
       "\n",
       "  date_reviewed                                  raw_python_tokens  \n",
       "0    11/25/2016  [1, checkin, love, love, loved, the, atmospher...  \n",
       "1     12/2/2016  [listed, in, date, night, austin, ambiance, in...  \n",
       "2    11/30/2016  [1, checkin, listed, in, brunch, spots, i, lov...  \n",
       "3    11/25/2016  [very, cool, decor, good, drinks, nice, seatin...  \n",
       "4     12/3/2016  [1, checkin, they, are, located, within, the, ...  "
      ]
     },
     "execution_count": 18,
     "metadata": {},
     "output_type": "execute_result"
    }
   ],
   "source": [
    "print(shops_cleaned.shape)\n",
    "shops_cleaned.head()"
   ]
  },
  {
   "cell_type": "markdown",
   "metadata": {},
   "source": [
    "## Can you visualize the words with the greatest difference in counts between 'good' & 'bad'?\n",
    "\n",
    "Couple Notes: \n",
    "- Rel. freq. instead of absolute counts b/c of different numbers of reviews\n",
    "- Only look at the top 5-10 words with the greatest differences\n"
   ]
  },
  {
   "cell_type": "code",
   "execution_count": 19,
   "metadata": {},
   "outputs": [],
   "source": [
    "# RAW PYTHON METHOD\n",
    "\n",
    "# Base\n",
    "from collections import Counter\n",
    "import re\n",
    " \n",
    "import pandas as pd\n",
    "\n",
    "# Plotting\n",
    "import squarify\n",
    "import matplotlib.pyplot as plt\n",
    "import seaborn as sns"
   ]
  },
  {
   "cell_type": "code",
   "execution_count": 20,
   "metadata": {},
   "outputs": [
    {
     "data": {
      "text/html": [
       "<div>\n",
       "<style scoped>\n",
       "    .dataframe tbody tr th:only-of-type {\n",
       "        vertical-align: middle;\n",
       "    }\n",
       "\n",
       "    .dataframe tbody tr th {\n",
       "        vertical-align: top;\n",
       "    }\n",
       "\n",
       "    .dataframe thead th {\n",
       "        text-align: right;\n",
       "    }\n",
       "</style>\n",
       "<table border=\"1\" class=\"dataframe\">\n",
       "  <thead>\n",
       "    <tr style=\"text-align: right;\">\n",
       "      <th></th>\n",
       "      <th>coffee_shop_name</th>\n",
       "      <th>full_review_text</th>\n",
       "      <th>star_rating</th>\n",
       "      <th>date_reviewed</th>\n",
       "      <th>raw_python_tokens</th>\n",
       "    </tr>\n",
       "  </thead>\n",
       "  <tbody>\n",
       "    <tr>\n",
       "      <th>0</th>\n",
       "      <td>The Factory - Cafe With a Soul</td>\n",
       "      <td>1 check-in Love love loved the atmosphere! Eve...</td>\n",
       "      <td>5.0</td>\n",
       "      <td>11/25/2016</td>\n",
       "      <td>[1, checkin, love, love, loved, the, atmospher...</td>\n",
       "    </tr>\n",
       "    <tr>\n",
       "      <th>1</th>\n",
       "      <td>The Factory - Cafe With a Soul</td>\n",
       "      <td>Listed in Date Night: Austin, Ambiance in Aust...</td>\n",
       "      <td>4.0</td>\n",
       "      <td>12/2/2016</td>\n",
       "      <td>[listed, in, date, night, austin, ambiance, in...</td>\n",
       "    </tr>\n",
       "  </tbody>\n",
       "</table>\n",
       "</div>"
      ],
      "text/plain": [
       "                  coffee_shop_name  \\\n",
       "0  The Factory - Cafe With a Soul    \n",
       "1  The Factory - Cafe With a Soul    \n",
       "\n",
       "                                    full_review_text  star_rating  \\\n",
       "0  1 check-in Love love loved the atmosphere! Eve...          5.0   \n",
       "1  Listed in Date Night: Austin, Ambiance in Aust...          4.0   \n",
       "\n",
       "  date_reviewed                                  raw_python_tokens  \n",
       "0    11/25/2016  [1, checkin, love, love, loved, the, atmospher...  \n",
       "1     12/2/2016  [listed, in, date, night, austin, ambiance, in...  "
      ]
     },
     "execution_count": 20,
     "metadata": {},
     "output_type": "execute_result"
    }
   ],
   "source": [
    "shops_cleaned.head(2)"
   ]
  },
  {
   "cell_type": "code",
   "execution_count": 21,
   "metadata": {},
   "outputs": [],
   "source": [
    "def count(docs):\n",
    "        word_counts = Counter()\n",
    "        appears_in = Counter()\n",
    "        \n",
    "        total_docs = len(docs)\n",
    "\n",
    "        for doc in docs:\n",
    "            word_counts.update(doc)\n",
    "            appears_in.update(set(doc))\n",
    "\n",
    "        temp = zip(word_counts.keys(), word_counts.values())\n",
    "        \n",
    "        wc = pd.DataFrame(temp, columns = ['word', 'count'])\n",
    "\n",
    "        wc['rank'] = wc['count'].rank(method='first', ascending=False)\n",
    "        total = wc['count'].sum()\n",
    "\n",
    "        wc['pct_total'] = wc['count'].apply(lambda x: x / total)\n",
    "        \n",
    "        wc = wc.sort_values(by='rank')\n",
    "        wc['cul_pct_total'] = wc['pct_total'].cumsum()\n",
    "\n",
    "        t2 = zip(appears_in.keys(), appears_in.values())\n",
    "        ac = pd.DataFrame(t2, columns=['word', 'appears_in'])\n",
    "        wc = ac.merge(wc, on='word')\n",
    "\n",
    "        wc['appears_in_pct'] = wc['appears_in'].apply(lambda x: x / total_docs)\n",
    "        \n",
    "        return wc.sort_values(by='rank')"
   ]
  },
  {
   "cell_type": "code",
   "execution_count": 22,
   "metadata": {},
   "outputs": [],
   "source": [
    "wc = count(shops_cleaned['raw_python_tokens'])"
   ]
  },
  {
   "cell_type": "code",
   "execution_count": 23,
   "metadata": {},
   "outputs": [
    {
     "data": {
      "text/html": [
       "<div>\n",
       "<style scoped>\n",
       "    .dataframe tbody tr th:only-of-type {\n",
       "        vertical-align: middle;\n",
       "    }\n",
       "\n",
       "    .dataframe tbody tr th {\n",
       "        vertical-align: top;\n",
       "    }\n",
       "\n",
       "    .dataframe thead th {\n",
       "        text-align: right;\n",
       "    }\n",
       "</style>\n",
       "<table border=\"1\" class=\"dataframe\">\n",
       "  <thead>\n",
       "    <tr style=\"text-align: right;\">\n",
       "      <th></th>\n",
       "      <th>word</th>\n",
       "      <th>appears_in</th>\n",
       "      <th>count</th>\n",
       "      <th>rank</th>\n",
       "      <th>pct_total</th>\n",
       "      <th>cul_pct_total</th>\n",
       "      <th>appears_in_pct</th>\n",
       "    </tr>\n",
       "  </thead>\n",
       "  <tbody>\n",
       "    <tr>\n",
       "      <th>21</th>\n",
       "      <td>the</td>\n",
       "      <td>6847</td>\n",
       "      <td>34809</td>\n",
       "      <td>1.0</td>\n",
       "      <td>0.044975</td>\n",
       "      <td>0.044975</td>\n",
       "      <td>0.899028</td>\n",
       "    </tr>\n",
       "    <tr>\n",
       "      <th>7</th>\n",
       "      <td>and</td>\n",
       "      <td>6864</td>\n",
       "      <td>26650</td>\n",
       "      <td>2.0</td>\n",
       "      <td>0.034433</td>\n",
       "      <td>0.079408</td>\n",
       "      <td>0.901261</td>\n",
       "    </tr>\n",
       "    <tr>\n",
       "      <th>61</th>\n",
       "      <td>a</td>\n",
       "      <td>6246</td>\n",
       "      <td>22755</td>\n",
       "      <td>3.0</td>\n",
       "      <td>0.029401</td>\n",
       "      <td>0.108809</td>\n",
       "      <td>0.820116</td>\n",
       "    </tr>\n",
       "    <tr>\n",
       "      <th>54</th>\n",
       "      <td>i</td>\n",
       "      <td>5528</td>\n",
       "      <td>20237</td>\n",
       "      <td>4.0</td>\n",
       "      <td>0.026147</td>\n",
       "      <td>0.134956</td>\n",
       "      <td>0.725840</td>\n",
       "    </tr>\n",
       "    <tr>\n",
       "      <th>40</th>\n",
       "      <td>to</td>\n",
       "      <td>5653</td>\n",
       "      <td>17164</td>\n",
       "      <td>5.0</td>\n",
       "      <td>0.022177</td>\n",
       "      <td>0.157132</td>\n",
       "      <td>0.742253</td>\n",
       "    </tr>\n",
       "  </tbody>\n",
       "</table>\n",
       "</div>"
      ],
      "text/plain": [
       "   word  appears_in  count  rank  pct_total  cul_pct_total  appears_in_pct\n",
       "21  the        6847  34809   1.0   0.044975       0.044975        0.899028\n",
       "7   and        6864  26650   2.0   0.034433       0.079408        0.901261\n",
       "61    a        6246  22755   3.0   0.029401       0.108809        0.820116\n",
       "54    i        5528  20237   4.0   0.026147       0.134956        0.725840\n",
       "40   to        5653  17164   5.0   0.022177       0.157132        0.742253"
      ]
     },
     "execution_count": 23,
     "metadata": {},
     "output_type": "execute_result"
    }
   ],
   "source": [
    "wc.head()"
   ]
  },
  {
   "cell_type": "code",
   "execution_count": 24,
   "metadata": {},
   "outputs": [
    {
     "data": {
      "image/png": "[encoded data removed]",
      "text/plain": [
       "<Figure size 432x288 with 1 Axes>"
      ]
     },
     "metadata": {
      "needs_background": "light"
     },
     "output_type": "display_data"
    }
   ],
   "source": [
    "import squarify\n",
    "import matplotlib.pyplot as plt\n",
    "\n",
    "wc_top20 = wc[wc['rank'] <= 20]\n",
    "\n",
    "squarify.plot(sizes=wc_top20['pct_total'], label=wc_top20['word'], alpha=.8 )\n",
    "plt.axis('off')\n",
    "plt.show()"
   ]
  },
  {
   "cell_type": "code",
   "execution_count": 25,
   "metadata": {},
   "outputs": [],
   "source": [
    "# SPACEY METHOD\n",
    "\n",
    "# NLP Libraries\n",
    "import spacy\n",
    "from spacy.tokenizer import Tokenizer\n",
    "from nltk.stem import PorterStemmer\n",
    "\n",
    "nlp = spacy.load(\"en_core_web_lg\")\n",
    "\n",
    "tokenizer = Tokenizer(nlp.vocab)"
   ]
  },
  {
   "cell_type": "code",
   "execution_count": 26,
   "metadata": {},
   "outputs": [
    {
     "name": "stdout",
     "output_type": "stream",
     "text": [
      "(7616, 5)\n"
     ]
    },
    {
     "data": {
      "text/html": [
       "<div>\n",
       "<style scoped>\n",
       "    .dataframe tbody tr th:only-of-type {\n",
       "        vertical-align: middle;\n",
       "    }\n",
       "\n",
       "    .dataframe tbody tr th {\n",
       "        vertical-align: top;\n",
       "    }\n",
       "\n",
       "    .dataframe thead th {\n",
       "        text-align: right;\n",
       "    }\n",
       "</style>\n",
       "<table border=\"1\" class=\"dataframe\">\n",
       "  <thead>\n",
       "    <tr style=\"text-align: right;\">\n",
       "      <th></th>\n",
       "      <th>coffee_shop_name</th>\n",
       "      <th>full_review_text</th>\n",
       "      <th>star_rating</th>\n",
       "      <th>date_reviewed</th>\n",
       "      <th>raw_python_tokens</th>\n",
       "    </tr>\n",
       "  </thead>\n",
       "  <tbody>\n",
       "    <tr>\n",
       "      <th>0</th>\n",
       "      <td>The Factory - Cafe With a Soul</td>\n",
       "      <td>1 check-in Love love loved the atmosphere! Eve...</td>\n",
       "      <td>5.0</td>\n",
       "      <td>11/25/2016</td>\n",
       "      <td>[1, checkin, love, love, loved, the, atmospher...</td>\n",
       "    </tr>\n",
       "    <tr>\n",
       "      <th>1</th>\n",
       "      <td>The Factory - Cafe With a Soul</td>\n",
       "      <td>Listed in Date Night: Austin, Ambiance in Aust...</td>\n",
       "      <td>4.0</td>\n",
       "      <td>12/2/2016</td>\n",
       "      <td>[listed, in, date, night, austin, ambiance, in...</td>\n",
       "    </tr>\n",
       "    <tr>\n",
       "      <th>2</th>\n",
       "      <td>The Factory - Cafe With a Soul</td>\n",
       "      <td>1 check-in Listed in Brunch Spots I loved the ...</td>\n",
       "      <td>4.0</td>\n",
       "      <td>11/30/2016</td>\n",
       "      <td>[1, checkin, listed, in, brunch, spots, i, lov...</td>\n",
       "    </tr>\n",
       "    <tr>\n",
       "      <th>3</th>\n",
       "      <td>The Factory - Cafe With a Soul</td>\n",
       "      <td>Very cool decor! Good drinks Nice seating  How...</td>\n",
       "      <td>2.0</td>\n",
       "      <td>11/25/2016</td>\n",
       "      <td>[very, cool, decor, good, drinks, nice, seatin...</td>\n",
       "    </tr>\n",
       "    <tr>\n",
       "      <th>4</th>\n",
       "      <td>The Factory - Cafe With a Soul</td>\n",
       "      <td>1 check-in They are located within the Northcr...</td>\n",
       "      <td>4.0</td>\n",
       "      <td>12/3/2016</td>\n",
       "      <td>[1, checkin, they, are, located, within, the, ...</td>\n",
       "    </tr>\n",
       "  </tbody>\n",
       "</table>\n",
       "</div>"
      ],
      "text/plain": [
       "                  coffee_shop_name  \\\n",
       "0  The Factory - Cafe With a Soul    \n",
       "1  The Factory - Cafe With a Soul    \n",
       "2  The Factory - Cafe With a Soul    \n",
       "3  The Factory - Cafe With a Soul    \n",
       "4  The Factory - Cafe With a Soul    \n",
       "\n",
       "                                    full_review_text  star_rating  \\\n",
       "0  1 check-in Love love loved the atmosphere! Eve...          5.0   \n",
       "1  Listed in Date Night: Austin, Ambiance in Aust...          4.0   \n",
       "2  1 check-in Listed in Brunch Spots I loved the ...          4.0   \n",
       "3  Very cool decor! Good drinks Nice seating  How...          2.0   \n",
       "4  1 check-in They are located within the Northcr...          4.0   \n",
       "\n",
       "  date_reviewed                                  raw_python_tokens  \n",
       "0    11/25/2016  [1, checkin, love, love, loved, the, atmospher...  \n",
       "1     12/2/2016  [listed, in, date, night, austin, ambiance, in...  \n",
       "2    11/30/2016  [1, checkin, listed, in, brunch, spots, i, lov...  \n",
       "3    11/25/2016  [very, cool, decor, good, drinks, nice, seatin...  \n",
       "4     12/3/2016  [1, checkin, they, are, located, within, the, ...  "
      ]
     },
     "execution_count": 26,
     "metadata": {},
     "output_type": "execute_result"
    }
   ],
   "source": [
    "print(shops_cleaned.shape)\n",
    "shops_cleaned.head()"
   ]
  },
  {
   "cell_type": "code",
   "execution_count": 27,
   "metadata": {},
   "outputs": [],
   "source": [
    "# Tokenizer Pipe (CHANGE W/ SPACEY & IT GETS EASIER!)\n",
    "\n",
    "tokens = []\n",
    "\n",
    "\"\"\" Make them tokens \"\"\"\n",
    "for doc in tokenizer.pipe(shops_cleaned['full_review_text'], batch_size=500):\n",
    "    doc_tokens = [token.text for token in doc]\n",
    "    tokens.append(doc_tokens)\n",
    "\n",
    "shops_cleaned['spacey_tokens'] = tokens"
   ]
  },
  {
   "cell_type": "code",
   "execution_count": 28,
   "metadata": {},
   "outputs": [
    {
     "data": {
      "text/html": [
       "<div>\n",
       "<style scoped>\n",
       "    .dataframe tbody tr th:only-of-type {\n",
       "        vertical-align: middle;\n",
       "    }\n",
       "\n",
       "    .dataframe tbody tr th {\n",
       "        vertical-align: top;\n",
       "    }\n",
       "\n",
       "    .dataframe thead th {\n",
       "        text-align: right;\n",
       "    }\n",
       "</style>\n",
       "<table border=\"1\" class=\"dataframe\">\n",
       "  <thead>\n",
       "    <tr style=\"text-align: right;\">\n",
       "      <th></th>\n",
       "      <th>coffee_shop_name</th>\n",
       "      <th>full_review_text</th>\n",
       "      <th>star_rating</th>\n",
       "      <th>date_reviewed</th>\n",
       "      <th>raw_python_tokens</th>\n",
       "      <th>spacey_tokens</th>\n",
       "    </tr>\n",
       "  </thead>\n",
       "  <tbody>\n",
       "    <tr>\n",
       "      <th>0</th>\n",
       "      <td>The Factory - Cafe With a Soul</td>\n",
       "      <td>1 check-in Love love loved the atmosphere! Eve...</td>\n",
       "      <td>5.0</td>\n",
       "      <td>11/25/2016</td>\n",
       "      <td>[1, checkin, love, love, loved, the, atmospher...</td>\n",
       "      <td>[1, check-in, Love, love, loved, the, atmosphe...</td>\n",
       "    </tr>\n",
       "    <tr>\n",
       "      <th>1</th>\n",
       "      <td>The Factory - Cafe With a Soul</td>\n",
       "      <td>Listed in Date Night: Austin, Ambiance in Aust...</td>\n",
       "      <td>4.0</td>\n",
       "      <td>12/2/2016</td>\n",
       "      <td>[listed, in, date, night, austin, ambiance, in...</td>\n",
       "      <td>[Listed, in, Date, Night:, Austin,, Ambiance, ...</td>\n",
       "    </tr>\n",
       "    <tr>\n",
       "      <th>2</th>\n",
       "      <td>The Factory - Cafe With a Soul</td>\n",
       "      <td>1 check-in Listed in Brunch Spots I loved the ...</td>\n",
       "      <td>4.0</td>\n",
       "      <td>11/30/2016</td>\n",
       "      <td>[1, checkin, listed, in, brunch, spots, i, lov...</td>\n",
       "      <td>[1, check-in, Listed, in, Brunch, Spots, I, lo...</td>\n",
       "    </tr>\n",
       "    <tr>\n",
       "      <th>3</th>\n",
       "      <td>The Factory - Cafe With a Soul</td>\n",
       "      <td>Very cool decor! Good drinks Nice seating  How...</td>\n",
       "      <td>2.0</td>\n",
       "      <td>11/25/2016</td>\n",
       "      <td>[very, cool, decor, good, drinks, nice, seatin...</td>\n",
       "      <td>[Very, cool, decor!, Good, drinks, Nice, seati...</td>\n",
       "    </tr>\n",
       "    <tr>\n",
       "      <th>4</th>\n",
       "      <td>The Factory - Cafe With a Soul</td>\n",
       "      <td>1 check-in They are located within the Northcr...</td>\n",
       "      <td>4.0</td>\n",
       "      <td>12/3/2016</td>\n",
       "      <td>[1, checkin, they, are, located, within, the, ...</td>\n",
       "      <td>[1, check-in, They, are, located, within, the,...</td>\n",
       "    </tr>\n",
       "  </tbody>\n",
       "</table>\n",
       "</div>"
      ],
      "text/plain": [
       "                  coffee_shop_name  \\\n",
       "0  The Factory - Cafe With a Soul    \n",
       "1  The Factory - Cafe With a Soul    \n",
       "2  The Factory - Cafe With a Soul    \n",
       "3  The Factory - Cafe With a Soul    \n",
       "4  The Factory - Cafe With a Soul    \n",
       "\n",
       "                                    full_review_text  star_rating  \\\n",
       "0  1 check-in Love love loved the atmosphere! Eve...          5.0   \n",
       "1  Listed in Date Night: Austin, Ambiance in Aust...          4.0   \n",
       "2  1 check-in Listed in Brunch Spots I loved the ...          4.0   \n",
       "3  Very cool decor! Good drinks Nice seating  How...          2.0   \n",
       "4  1 check-in They are located within the Northcr...          4.0   \n",
       "\n",
       "  date_reviewed                                  raw_python_tokens  \\\n",
       "0    11/25/2016  [1, checkin, love, love, loved, the, atmospher...   \n",
       "1     12/2/2016  [listed, in, date, night, austin, ambiance, in...   \n",
       "2    11/30/2016  [1, checkin, listed, in, brunch, spots, i, lov...   \n",
       "3    11/25/2016  [very, cool, decor, good, drinks, nice, seatin...   \n",
       "4     12/3/2016  [1, checkin, they, are, located, within, the, ...   \n",
       "\n",
       "                                       spacey_tokens  \n",
       "0  [1, check-in, Love, love, loved, the, atmosphe...  \n",
       "1  [Listed, in, Date, Night:, Austin,, Ambiance, ...  \n",
       "2  [1, check-in, Listed, in, Brunch, Spots, I, lo...  \n",
       "3  [Very, cool, decor!, Good, drinks, Nice, seati...  \n",
       "4  [1, check-in, They, are, located, within, the,...  "
      ]
     },
     "execution_count": 28,
     "metadata": {},
     "output_type": "execute_result"
    }
   ],
   "source": [
    "shops_cleaned.head()"
   ]
  },
  {
   "cell_type": "code",
   "execution_count": 29,
   "metadata": {},
   "outputs": [
    {
     "data": {
      "text/html": [
       "<div>\n",
       "<style scoped>\n",
       "    .dataframe tbody tr th:only-of-type {\n",
       "        vertical-align: middle;\n",
       "    }\n",
       "\n",
       "    .dataframe tbody tr th {\n",
       "        vertical-align: top;\n",
       "    }\n",
       "\n",
       "    .dataframe thead th {\n",
       "        text-align: right;\n",
       "    }\n",
       "</style>\n",
       "<table border=\"1\" class=\"dataframe\">\n",
       "  <thead>\n",
       "    <tr style=\"text-align: right;\">\n",
       "      <th></th>\n",
       "      <th>word</th>\n",
       "      <th>appears_in</th>\n",
       "      <th>count</th>\n",
       "      <th>rank</th>\n",
       "      <th>pct_total</th>\n",
       "      <th>cul_pct_total</th>\n",
       "      <th>appears_in_pct</th>\n",
       "    </tr>\n",
       "  </thead>\n",
       "  <tbody>\n",
       "    <tr>\n",
       "      <th>19</th>\n",
       "      <td>the</td>\n",
       "      <td>6520</td>\n",
       "      <td>27779</td>\n",
       "      <td>1.0</td>\n",
       "      <td>0.034993</td>\n",
       "      <td>0.034993</td>\n",
       "      <td>0.856092</td>\n",
       "    </tr>\n",
       "    <tr>\n",
       "      <th>9</th>\n",
       "      <td>and</td>\n",
       "      <td>6804</td>\n",
       "      <td>25748</td>\n",
       "      <td>2.0</td>\n",
       "      <td>0.032434</td>\n",
       "      <td>0.067427</td>\n",
       "      <td>0.893382</td>\n",
       "    </tr>\n",
       "    <tr>\n",
       "      <th>64</th>\n",
       "      <td>a</td>\n",
       "      <td>6181</td>\n",
       "      <td>22085</td>\n",
       "      <td>3.0</td>\n",
       "      <td>0.027820</td>\n",
       "      <td>0.095247</td>\n",
       "      <td>0.811581</td>\n",
       "    </tr>\n",
       "    <tr>\n",
       "      <th>24</th>\n",
       "      <td>I</td>\n",
       "      <td>5469</td>\n",
       "      <td>19780</td>\n",
       "      <td>4.0</td>\n",
       "      <td>0.024916</td>\n",
       "      <td>0.120163</td>\n",
       "      <td>0.718093</td>\n",
       "    </tr>\n",
       "    <tr>\n",
       "      <th>41</th>\n",
       "      <td>to</td>\n",
       "      <td>5631</td>\n",
       "      <td>16904</td>\n",
       "      <td>5.0</td>\n",
       "      <td>0.021294</td>\n",
       "      <td>0.141457</td>\n",
       "      <td>0.739364</td>\n",
       "    </tr>\n",
       "  </tbody>\n",
       "</table>\n",
       "</div>"
      ],
      "text/plain": [
       "   word  appears_in  count  rank  pct_total  cul_pct_total  appears_in_pct\n",
       "19  the        6520  27779   1.0   0.034993       0.034993        0.856092\n",
       "9   and        6804  25748   2.0   0.032434       0.067427        0.893382\n",
       "64    a        6181  22085   3.0   0.027820       0.095247        0.811581\n",
       "24    I        5469  19780   4.0   0.024916       0.120163        0.718093\n",
       "41   to        5631  16904   5.0   0.021294       0.141457        0.739364"
      ]
     },
     "execution_count": 29,
     "metadata": {},
     "output_type": "execute_result"
    }
   ],
   "source": [
    "wc = count(shops_cleaned['spacey_tokens'])\n",
    "wc.head()"
   ]
  },
  {
   "cell_type": "code",
   "execution_count": 30,
   "metadata": {},
   "outputs": [
    {
     "data": {
      "image/png": "[encoded data removed]",
      "text/plain": [
       "<Figure size 432x288 with 1 Axes>"
      ]
     },
     "metadata": {
      "needs_background": "light"
     },
     "output_type": "display_data"
    }
   ],
   "source": [
    "wc_top20 = wc[wc['rank'] <= 20]\n",
    "\n",
    "squarify.plot(sizes=wc_top20['pct_total'], label=wc_top20['word'], alpha=.8 )\n",
    "plt.axis('off')\n",
    "plt.show()"
   ]
  },
  {
   "cell_type": "code",
   "execution_count": 31,
   "metadata": {},
   "outputs": [],
   "source": [
    "# NO CAPS INCLUDED FOR SPACEY"
   ]
  },
  {
   "cell_type": "code",
   "execution_count": 32,
   "metadata": {},
   "outputs": [],
   "source": [
    "# REMOVING STOP WORDS (NOT OBVIOUSLY USEFUL FOR OUR ANALYSIS)\n",
    "# Includes: conjunctions, articles, adverbs, pronouns, common verbs\n",
    "# Note: best practice is to personalize these depending on the problem (ie. \"patient\" in medical study)"
   ]
  },
  {
   "cell_type": "code",
   "execution_count": 33,
   "metadata": {},
   "outputs": [],
   "source": [
    "# DEFAULT STOP WORDS\n",
    "# nlp.Defaults.stop_words # python type = SET"
   ]
  },
  {
   "cell_type": "code",
   "execution_count": 34,
   "metadata": {},
   "outputs": [],
   "source": [
    "# Lemmatization - included by default in Spacy\n",
    "# RUNS SLOW\n",
    "# def get_lemmas(text):\n",
    "\n",
    "#     lemmas = []\n",
    "    \n",
    "#     doc = nlp(text)\n",
    "    \n",
    "#     for token in doc: \n",
    "#         if ((token.is_stop == False) and (token.is_punct == False)) and (token.pos_!= 'PRON'):\n",
    "#             lemmas.append(token.lemma_)\n",
    "    \n",
    "#     return lemmas"
   ]
  },
  {
   "cell_type": "code",
   "execution_count": 35,
   "metadata": {},
   "outputs": [],
   "source": [
    "# shops_cleaned['spacey_tokens'] = shops_cleaned['full_review_text'].apply(get_lemmas)\n",
    "\n",
    "# print(shops_cleaned.shape)\n",
    "# shops_cleaned.head()"
   ]
  },
  {
   "cell_type": "code",
   "execution_count": 36,
   "metadata": {},
   "outputs": [],
   "source": [
    "# wc = count(shops_cleaned['spacey_tokens'])\n",
    "# wc.head()"
   ]
  },
  {
   "cell_type": "code",
   "execution_count": 37,
   "metadata": {},
   "outputs": [],
   "source": [
    "# wc_top20 = wc[wc['rank'] <= 20]\n",
    "\n",
    "# squarify.plot(sizes=wc_top20['pct_total'], label=wc_top20['word'], alpha=.8 )\n",
    "# plt.axis('off')\n",
    "# plt.show()"
   ]
  },
  {
   "cell_type": "code",
   "execution_count": 73,
   "metadata": {},
   "outputs": [],
   "source": [
    "# EXTENDING STOP WORDS\n",
    "STOP_WORDS = nlp.Defaults.stop_words.union([\"check\", \"1\", \"coffee\", \"the\"])"
   ]
  },
  {
   "cell_type": "code",
   "execution_count": 74,
   "metadata": {},
   "outputs": [],
   "source": [
    "# Lemmatization - included by default in Spacy\n",
    "# RUNS SLOW\n",
    "def get_lemmas(text):\n",
    "\n",
    "    lemmas = []\n",
    "    \n",
    "    doc = nlp(text)\n",
    "    \n",
    "    for token in doc: \n",
    "        if ((token.text not in STOP_WORDS) and (token.is_space == False) and (token.is_punct == False)) and (token.pos_ != 'PRON'):\n",
    "            lemmas.append(token.lemma_)\n",
    "    \n",
    "    return lemmas"
   ]
  },
  {
   "cell_type": "code",
   "execution_count": 75,
   "metadata": {},
   "outputs": [],
   "source": [
    "# shops_cleaned['spacey_tokens'] = shops_cleaned['full_review_text'].apply(get_lemmas)"
   ]
  },
  {
   "cell_type": "code",
   "execution_count": 76,
   "metadata": {},
   "outputs": [],
   "source": [
    "# wc = count(shops_cleaned['spacey_tokens'])\n",
    "# wc.head()"
   ]
  },
  {
   "cell_type": "code",
   "execution_count": 77,
   "metadata": {},
   "outputs": [],
   "source": [
    "# wc_top20 = wc[wc['rank'] <= 20]\n",
    "\n",
    "# squarify.plot(sizes=wc_top20['pct_total'], label=wc_top20['word'], alpha=.8 )\n",
    "# plt.axis('off')\n",
    "# plt.show()"
   ]
  },
  {
   "cell_type": "code",
   "execution_count": 78,
   "metadata": {},
   "outputs": [
    {
     "data": {
      "text/html": [
       "<div>\n",
       "<style scoped>\n",
       "    .dataframe tbody tr th:only-of-type {\n",
       "        vertical-align: middle;\n",
       "    }\n",
       "\n",
       "    .dataframe tbody tr th {\n",
       "        vertical-align: top;\n",
       "    }\n",
       "\n",
       "    .dataframe thead th {\n",
       "        text-align: right;\n",
       "    }\n",
       "</style>\n",
       "<table border=\"1\" class=\"dataframe\">\n",
       "  <thead>\n",
       "    <tr style=\"text-align: right;\">\n",
       "      <th></th>\n",
       "      <th>coffee_shop_name</th>\n",
       "      <th>full_review_text</th>\n",
       "      <th>star_rating</th>\n",
       "      <th>date_reviewed</th>\n",
       "      <th>raw_python_tokens</th>\n",
       "      <th>spacey_tokens</th>\n",
       "    </tr>\n",
       "  </thead>\n",
       "  <tbody>\n",
       "    <tr>\n",
       "      <th>0</th>\n",
       "      <td>The Factory - Cafe With a Soul</td>\n",
       "      <td>1 check-in Love love loved the atmosphere! Eve...</td>\n",
       "      <td>5.0</td>\n",
       "      <td>11/25/2016</td>\n",
       "      <td>[1, checkin, love, love, loved, the, atmospher...</td>\n",
       "      <td>[1, check-in, Love, love, loved, the, atmosphe...</td>\n",
       "    </tr>\n",
       "    <tr>\n",
       "      <th>1</th>\n",
       "      <td>The Factory - Cafe With a Soul</td>\n",
       "      <td>Listed in Date Night: Austin, Ambiance in Aust...</td>\n",
       "      <td>4.0</td>\n",
       "      <td>12/2/2016</td>\n",
       "      <td>[listed, in, date, night, austin, ambiance, in...</td>\n",
       "      <td>[Listed, in, Date, Night:, Austin,, Ambiance, ...</td>\n",
       "    </tr>\n",
       "    <tr>\n",
       "      <th>2</th>\n",
       "      <td>The Factory - Cafe With a Soul</td>\n",
       "      <td>1 check-in Listed in Brunch Spots I loved the ...</td>\n",
       "      <td>4.0</td>\n",
       "      <td>11/30/2016</td>\n",
       "      <td>[1, checkin, listed, in, brunch, spots, i, lov...</td>\n",
       "      <td>[1, check-in, Listed, in, Brunch, Spots, I, lo...</td>\n",
       "    </tr>\n",
       "    <tr>\n",
       "      <th>4</th>\n",
       "      <td>The Factory - Cafe With a Soul</td>\n",
       "      <td>1 check-in They are located within the Northcr...</td>\n",
       "      <td>4.0</td>\n",
       "      <td>12/3/2016</td>\n",
       "      <td>[1, checkin, they, are, located, within, the, ...</td>\n",
       "      <td>[1, check-in, They, are, located, within, the,...</td>\n",
       "    </tr>\n",
       "    <tr>\n",
       "      <th>5</th>\n",
       "      <td>The Factory - Cafe With a Soul</td>\n",
       "      <td>1 check-in Very cute cafe! I think from the mo...</td>\n",
       "      <td>4.0</td>\n",
       "      <td>11/20/2016</td>\n",
       "      <td>[1, checkin, very, cute, cafe, i, think, from,...</td>\n",
       "      <td>[1, check-in, Very, cute, cafe!, I, think, fro...</td>\n",
       "    </tr>\n",
       "  </tbody>\n",
       "</table>\n",
       "</div>"
      ],
      "text/plain": [
       "                  coffee_shop_name  \\\n",
       "0  The Factory - Cafe With a Soul    \n",
       "1  The Factory - Cafe With a Soul    \n",
       "2  The Factory - Cafe With a Soul    \n",
       "4  The Factory - Cafe With a Soul    \n",
       "5  The Factory - Cafe With a Soul    \n",
       "\n",
       "                                    full_review_text  star_rating  \\\n",
       "0  1 check-in Love love loved the atmosphere! Eve...          5.0   \n",
       "1  Listed in Date Night: Austin, Ambiance in Aust...          4.0   \n",
       "2  1 check-in Listed in Brunch Spots I loved the ...          4.0   \n",
       "4  1 check-in They are located within the Northcr...          4.0   \n",
       "5  1 check-in Very cute cafe! I think from the mo...          4.0   \n",
       "\n",
       "  date_reviewed                                  raw_python_tokens  \\\n",
       "0    11/25/2016  [1, checkin, love, love, loved, the, atmospher...   \n",
       "1     12/2/2016  [listed, in, date, night, austin, ambiance, in...   \n",
       "2    11/30/2016  [1, checkin, listed, in, brunch, spots, i, lov...   \n",
       "4     12/3/2016  [1, checkin, they, are, located, within, the, ...   \n",
       "5    11/20/2016  [1, checkin, very, cute, cafe, i, think, from,...   \n",
       "\n",
       "                                       spacey_tokens  \n",
       "0  [1, check-in, Love, love, loved, the, atmosphe...  \n",
       "1  [Listed, in, Date, Night:, Austin,, Ambiance, ...  \n",
       "2  [1, check-in, Listed, in, Brunch, Spots, I, lo...  \n",
       "4  [1, check-in, They, are, located, within, the,...  \n",
       "5  [1, check-in, Very, cute, cafe!, I, think, fro...  "
      ]
     },
     "execution_count": 78,
     "metadata": {},
     "output_type": "execute_result"
    }
   ],
   "source": [
    "# \"GOOD\" COFFEE SHOPS VISUALIZATION\n",
    "good_shops = shops_cleaned[shops_cleaned['star_rating'] >= 4].copy()\n",
    "\n",
    "good_shops.head()"
   ]
  },
  {
   "cell_type": "code",
   "execution_count": 79,
   "metadata": {},
   "outputs": [],
   "source": [
    "good_shops['spacey_tokens'] = good_shops['full_review_text'].apply(get_lemmas)"
   ]
  },
  {
   "cell_type": "code",
   "execution_count": 80,
   "metadata": {},
   "outputs": [
    {
     "data": {
      "image/png": "[encoded data removed]",
      "text/plain": [
       "<Figure size 432x288 with 1 Axes>"
      ]
     },
     "metadata": {
      "needs_background": "light"
     },
     "output_type": "display_data"
    }
   ],
   "source": [
    "wc = count(good_shops['spacey_tokens'])\n",
    "wc_top20 = wc[wc['rank'] <= 20]\n",
    "\n",
    "squarify.plot(sizes=wc_top20['pct_total'], label=wc_top20['word'], alpha=.8 )\n",
    "plt.axis('off')\n",
    "plt.show()"
   ]
  },
  {
   "cell_type": "code",
   "execution_count": null,
   "metadata": {},
   "outputs": [],
   "source": [
    "'''\n",
    "Unlike verbs and common nouns, there's no clear base form of a personal pronoun. \n",
    "Should the lemma of \"me\" be \"I\", or should we normalize person as well, giving \"it\" — or maybe \"he\"? \n",
    "spaCy's solution is to introduce a novel symbol, -PRON-, which is used as the lemma for all personal pronouns.\n",
    "'''"
   ]
  },
  {
   "cell_type": "code",
   "execution_count": 81,
   "metadata": {},
   "outputs": [
    {
     "data": {
      "text/html": [
       "<div>\n",
       "<style scoped>\n",
       "    .dataframe tbody tr th:only-of-type {\n",
       "        vertical-align: middle;\n",
       "    }\n",
       "\n",
       "    .dataframe tbody tr th {\n",
       "        vertical-align: top;\n",
       "    }\n",
       "\n",
       "    .dataframe thead th {\n",
       "        text-align: right;\n",
       "    }\n",
       "</style>\n",
       "<table border=\"1\" class=\"dataframe\">\n",
       "  <thead>\n",
       "    <tr style=\"text-align: right;\">\n",
       "      <th></th>\n",
       "      <th>coffee_shop_name</th>\n",
       "      <th>full_review_text</th>\n",
       "      <th>star_rating</th>\n",
       "      <th>date_reviewed</th>\n",
       "      <th>raw_python_tokens</th>\n",
       "      <th>spacey_tokens</th>\n",
       "    </tr>\n",
       "  </thead>\n",
       "  <tbody>\n",
       "    <tr>\n",
       "      <th>3</th>\n",
       "      <td>The Factory - Cafe With a Soul</td>\n",
       "      <td>Very cool decor! Good drinks Nice seating  How...</td>\n",
       "      <td>2.0</td>\n",
       "      <td>11/25/2016</td>\n",
       "      <td>[very, cool, decor, good, drinks, nice, seatin...</td>\n",
       "      <td>[Very, cool, decor!, Good, drinks, Nice, seati...</td>\n",
       "    </tr>\n",
       "    <tr>\n",
       "      <th>25</th>\n",
       "      <td>The Factory - Cafe With a Soul</td>\n",
       "      <td>Okay, so after visiting my friends in LA and t...</td>\n",
       "      <td>1.0</td>\n",
       "      <td>12/2/2016</td>\n",
       "      <td>[okay, so, after, visiting, my, friends, in, l...</td>\n",
       "      <td>[Okay,, so, after, visiting, my, friends, in, ...</td>\n",
       "    </tr>\n",
       "    <tr>\n",
       "      <th>39</th>\n",
       "      <td>The Factory - Cafe With a Soul</td>\n",
       "      <td>A cafe that doesn't have Wifi but makes you or...</td>\n",
       "      <td>1.0</td>\n",
       "      <td>12/2/2016</td>\n",
       "      <td>[a, cafe, that, doesnt, have, wifi, but, makes...</td>\n",
       "      <td>[A, cafe, that, doesn't, have, Wifi, but, make...</td>\n",
       "    </tr>\n",
       "    <tr>\n",
       "      <th>40</th>\n",
       "      <td>The Factory - Cafe With a Soul</td>\n",
       "      <td>Honestly, this place is having an identity cri...</td>\n",
       "      <td>2.0</td>\n",
       "      <td>11/14/2016</td>\n",
       "      <td>[honestly, this, place, is, having, an, identi...</td>\n",
       "      <td>[Honestly,, this, place, is, having, an, ident...</td>\n",
       "    </tr>\n",
       "    <tr>\n",
       "      <th>58</th>\n",
       "      <td>The Factory - Cafe With a Soul</td>\n",
       "      <td>This is a tough one for me.  I took my childre...</td>\n",
       "      <td>2.0</td>\n",
       "      <td>11/20/2016</td>\n",
       "      <td>[this, is, a, tough, one, for, me, i, took, my...</td>\n",
       "      <td>[This, is, a, tough, one, for, me.,  , I, took...</td>\n",
       "    </tr>\n",
       "  </tbody>\n",
       "</table>\n",
       "</div>"
      ],
      "text/plain": [
       "                   coffee_shop_name  \\\n",
       "3   The Factory - Cafe With a Soul    \n",
       "25  The Factory - Cafe With a Soul    \n",
       "39  The Factory - Cafe With a Soul    \n",
       "40  The Factory - Cafe With a Soul    \n",
       "58  The Factory - Cafe With a Soul    \n",
       "\n",
       "                                     full_review_text  star_rating  \\\n",
       "3   Very cool decor! Good drinks Nice seating  How...          2.0   \n",
       "25  Okay, so after visiting my friends in LA and t...          1.0   \n",
       "39  A cafe that doesn't have Wifi but makes you or...          1.0   \n",
       "40  Honestly, this place is having an identity cri...          2.0   \n",
       "58  This is a tough one for me.  I took my childre...          2.0   \n",
       "\n",
       "   date_reviewed                                  raw_python_tokens  \\\n",
       "3     11/25/2016  [very, cool, decor, good, drinks, nice, seatin...   \n",
       "25     12/2/2016  [okay, so, after, visiting, my, friends, in, l...   \n",
       "39     12/2/2016  [a, cafe, that, doesnt, have, wifi, but, makes...   \n",
       "40    11/14/2016  [honestly, this, place, is, having, an, identi...   \n",
       "58    11/20/2016  [this, is, a, tough, one, for, me, i, took, my...   \n",
       "\n",
       "                                        spacey_tokens  \n",
       "3   [Very, cool, decor!, Good, drinks, Nice, seati...  \n",
       "25  [Okay,, so, after, visiting, my, friends, in, ...  \n",
       "39  [A, cafe, that, doesn't, have, Wifi, but, make...  \n",
       "40  [Honestly,, this, place, is, having, an, ident...  \n",
       "58  [This, is, a, tough, one, for, me.,  , I, took...  "
      ]
     },
     "execution_count": 81,
     "metadata": {},
     "output_type": "execute_result"
    }
   ],
   "source": [
    "# \"BAD\" COFFEE SHOPS VISUALIZATION\n",
    "bad_shops = shops_cleaned[shops_cleaned['star_rating'] < 3].copy()\n",
    "\n",
    "bad_shops.head()"
   ]
  },
  {
   "cell_type": "code",
   "execution_count": 82,
   "metadata": {},
   "outputs": [],
   "source": [
    "bad_shops['spacey_tokens'] = bad_shops['full_review_text'].apply(get_lemmas)"
   ]
  },
  {
   "cell_type": "code",
   "execution_count": 83,
   "metadata": {},
   "outputs": [
    {
     "data": {
      "image/png": "[encoded data removed]",
      "text/plain": [
       "<Figure size 432x288 with 1 Axes>"
      ]
     },
     "metadata": {
      "needs_background": "light"
     },
     "output_type": "display_data"
    }
   ],
   "source": [
    "wc = count(bad_shops['spacey_tokens'])\n",
    "wc_top20 = wc[wc['rank'] <= 20]\n",
    "\n",
    "squarify.plot(sizes=wc_top20['pct_total'], label=wc_top20['word'], alpha=.8 )\n",
    "plt.axis('off')\n",
    "plt.show()"
   ]
  },
  {
   "cell_type": "markdown",
   "metadata": {
    "colab_type": "text",
    "id": "1dCb1q8XphcP",
    "toc-hr-collapsed": true
   },
   "source": [
    "## Stretch Goals\n",
    "\n",
    "* Analyze another corpus of documents - such as Indeed.com job listings ;).\n",
    "* Play with the Spacy API to\n",
    " - Extract Named Entities\n",
    " - Extracting 'noun chunks'\n",
    " - Attempt Document Classification with just Spacy\n",
    " - *Note:* This [course](https://course.spacy.io/) will be of interesting in helping you with these stretch goals. \n",
    "* Try to build a plotly dash app with your text data \n",
    "\n"
   ]
  }
 ],
 "metadata": {
  "colab": {
   "collapsed_sections": [],
   "name": "LS_DS_421_Text_Data_Assignment.ipynb",
   "provenance": [],
   "version": "0.3.2"
  },
  "kernelspec": {
   "display_name": "DS9-U4-S1-NLP (Python 3.7)",
   "language": "python",
   "name": "ds9-u4-s1-nlp"
  },
  "language_info": {
   "codemirror_mode": {
    "name": "ipython",
    "version": 3
   },
   "file_extension": ".py",
   "mimetype": "text/x-python",
   "name": "python",
   "nbconvert_exporter": "python",
   "pygments_lexer": "ipython3",
   "version": "3.7.0"
  },
  "toc-autonumbering": false
 },
 "nbformat": 4,
 "nbformat_minor": 4
}
